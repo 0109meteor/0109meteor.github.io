{
 "cells": [
  {
   "cell_type": "code",
   "execution_count": null,
   "metadata": {},
   "outputs": [],
   "source": [
    "\n",
    "#使用SSL module把證書驗證改成不需要驗證\n",
    "import ssl\n",
    "ssl._create_default_https_context = ssl._create_unverified_context  #"
   ]
  },
  {
   "cell_type": "code",
   "execution_count": null,
   "metadata": {},
   "outputs": [],
   "source": [
    "#網路連線(抓某個網站)\n",
    "import urllib.request as request\n",
    "\n",
    "src = \"https://www.ntu.edu.tw/\"\n",
    "with request.urlopen(src) as response:\n",
    "    data = response.read().decode(\"utf-8\")   #.decode(\"utf-8\")解碼 得到中文\n",
    "#print(data)"
   ]
  },
  {
   "cell_type": "code",
   "execution_count": null,
   "metadata": {},
   "outputs": [],
   "source": [
    "#抓取內湖科技園區\n",
    "import urllib.request as request\n",
    "import json\n",
    "\n",
    "src = \"https://data.taipei/api/v1/dataset/296acfa2-5d93-4706-ad58-e83cc951863c?scope=resourceAquire\"\n",
    "with request.urlopen(src) as response:\n",
    "    data = json.load(response)   #利用 json 模組處理 json 資料格式\n",
    "#print(data)"
   ]
  },
  {
   "cell_type": "code",
   "execution_count": null,
   "metadata": {},
   "outputs": [],
   "source": [
    "\n",
    "#將公司名稱列表出來\n",
    "clist = data[\"result\"][\"results\"]\n",
    "\n",
    "#抓取資料並寫入檔案\n",
    "with open(\"data.txt\", \"w\", encoding=\"utf-8\") as file:  # 因為有中文 要用utf-8編碼 encoding=\"utf-8\"\n",
    "    for company in clist:\n",
    "        file.write(company[\"公司名稱\"]+\"\\n\")  #列出公司名稱資料\n",
    "        print(company[\"公司名稱\"])"
   ]
  }
 ],
 "metadata": {
  "kernelspec": {
   "display_name": "base",
   "language": "python",
   "name": "python3"
  },
  "language_info": {
   "codemirror_mode": {
    "name": "ipython",
    "version": 3
   },
   "file_extension": ".py",
   "mimetype": "text/x-python",
   "name": "python",
   "nbconvert_exporter": "python",
   "pygments_lexer": "ipython3",
   "version": "3.9.13"
  },
  "orig_nbformat": 4
 },
 "nbformat": 4,
 "nbformat_minor": 2
}
