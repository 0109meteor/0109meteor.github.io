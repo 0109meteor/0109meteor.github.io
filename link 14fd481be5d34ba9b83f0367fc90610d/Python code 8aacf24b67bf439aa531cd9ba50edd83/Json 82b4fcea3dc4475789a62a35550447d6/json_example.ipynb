{
 "cells": [
  {
   "cell_type": "code",
   "execution_count": null,
   "metadata": {},
   "outputs": [],
   "source": [
    "import json\n",
    "\n",
    "#JSON字串轉Python dict\n",
    "str1 = '{\"id\": 123, \"Name\": \"wsrsw\", \"Email\": \"wsrsw@example.com\"}'\n",
    "j = json.loads(str1)\n",
    "\n",
    "print(j)\n",
    "print(type(j))"
   ]
  },
  {
   "cell_type": "code",
   "execution_count": null,
   "metadata": {},
   "outputs": [],
   "source": [
    "#dict轉JSON字串\n",
    "\n",
    "j = {'id': 123, 'Name': 'wsrsw', 'Email': 'wsrsw@example.com'}\n",
    "str1 = json.dumps(j)\n",
    "\n",
    "print(str1)\n",
    "print(type(str1))"
   ]
  },
  {
   "cell_type": "code",
   "execution_count": 8,
   "metadata": {},
   "outputs": [
    {
     "name": "stdout",
     "output_type": "stream",
     "text": [
      "{'id': [1, 2, 3], 'name': ['Tim', 'Bob', 'Lucy']} <class 'dict'>\n",
      "{\n",
      "    \"id\": [\n",
      "        1,\n",
      "        2,\n",
      "        3\n",
      "    ],\n",
      "    \"name\": [\n",
      "        \"Tim\",\n",
      "        \"Bob\",\n",
      "        \"Lucy\"\n",
      "    ]\n",
      "} <class 'str'>\n"
     ]
    }
   ],
   "source": [
    "#dict包含list轉JSON字串\n",
    "\n",
    "#字典\n",
    "python_dict = {\"id\":[1,2,3], \"name\": [\"Tim\", \"Bob\", \"Lucy\"]}\n",
    "print(python_dict, type(python_dict))\n",
    "\n",
    "#轉成json字串\n",
    "j = json.dumps(python_dict, indent = 4)  #可以使用indent => 可以使得數據存儲的格式容易解讀。\n",
    "print(j, type(j))\n",
    "\n",
    "\n"
   ]
  },
  {
   "cell_type": "code",
   "execution_count": null,
   "metadata": {},
   "outputs": [],
   "source": [
    "#總結\n",
    "#json.dumps()\n",
    "#將python物件轉成json字串，返回type為str\n",
    "#從python物件轉換為json字串\n",
    "\n",
    "#json.loads()\n",
    "#將json字串，返回python物件，返回type為dict\n",
    "#從json字串轉換為python物件"
   ]
  }
 ],
 "metadata": {
  "kernelspec": {
   "display_name": "base",
   "language": "python",
   "name": "python3"
  },
  "language_info": {
   "codemirror_mode": {
    "name": "ipython",
    "version": 3
   },
   "file_extension": ".py",
   "mimetype": "text/x-python",
   "name": "python",
   "nbconvert_exporter": "python",
   "pygments_lexer": "ipython3",
   "version": "3.9.13"
  },
  "orig_nbformat": 4
 },
 "nbformat": 4,
 "nbformat_minor": 2
}
