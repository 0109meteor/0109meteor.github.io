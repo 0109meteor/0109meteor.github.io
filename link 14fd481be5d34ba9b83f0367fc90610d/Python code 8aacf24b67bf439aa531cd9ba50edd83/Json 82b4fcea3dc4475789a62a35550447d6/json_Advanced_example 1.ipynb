{
 "cells": [
  {
   "cell_type": "code",
   "execution_count": null,
   "metadata": {},
   "outputs": [],
   "source": [
    "import json\n",
    "\n",
    "#讀取具有嵌套結構的JSON數據：\n",
    "json_data = '''\n",
    "{\n",
    "    \"name\": \"John\",\n",
    "    \"age\": 30,\n",
    "    \"city\": \"New York\",\n",
    "    \"pets\": [\n",
    "        {\"name\": \"Max\", \"species\": \"dog\"},\n",
    "        {\"name\": \"Lucy\", \"species\": \"cat\"}\n",
    "    ]\n",
    "}\n",
    "'''\n",
    "\n",
    "data = json.loads(json_data)\n",
    "print(data['pets'][1]['name'])  # Max\n",
    "\n",
    "#在這個例子中，JSON數據具有嵌套結構，可以使用索引或鍵訪問特定的值。\n"
   ]
  },
  {
   "cell_type": "code",
   "execution_count": null,
   "metadata": {},
   "outputs": [],
   "source": [
    "import json\n",
    "\n",
    "#將自定義的Python對象編碼為JSON字符串：\n",
    "class Person:\n",
    "    def __init__(self, name, age):\n",
    "        self.name = name\n",
    "        self.age = age\n",
    "\n",
    "person = Person(\"John\", 30)\n",
    "\n",
    "json_data = json.dumps(person, default=lambda obj: obj.__dict__)\n",
    "print(json_data)\n",
    "\n",
    "# 在這個例子中，我們定義了一個自定義的Person類，將其實例編碼為JSON字符串。\n",
    "# #通過使用default參數和lambda函數，我們告訴json.dumps函數將對象轉換為其__dict__屬性，\n",
    "# 然後再編碼為JSON字符串。\n"
   ]
  },
  {
   "cell_type": "code",
   "execution_count": null,
   "metadata": {},
   "outputs": [],
   "source": [
    "import json\n",
    "\n",
    "#格式化JSON字符串的輸出：\n",
    "data = {'name': 'John', 'age': 30, 'city': 'New York'}\n",
    "\n",
    "json_data = json.dumps(data, indent=4)\n",
    "print(json_data)\n",
    "\n",
    "#通過將indent參數設置為4，我們可以使輸出的JSON字符串具有縮進，以提高可讀性。"
   ]
  },
  {
   "cell_type": "code",
   "execution_count": null,
   "metadata": {},
   "outputs": [],
   "source": [
    "import json\n",
    "\n",
    "#自定義JSON的序列化和反序列化過程：\n",
    "def person_decoder(json_dict):\n",
    "    if 'name' in json_dict and 'age' in json_dict:\n",
    "        return Person(json_dict['name'], json_dict['age'])\n",
    "    return json_dict\n",
    "\n",
    "json_data = '{\"name\": \"John\", \"age\": 30}'\n",
    "\n",
    "person = json.loads(json_data, object_hook=person_decoder)\n",
    "print(person.name)  # John\n",
    "print(person.age)  # 30\n",
    "\n",
    "# 在這個例子中，我們定義了一個person_decoder函數，用於將JSON字典轉換為Person對象。\n",
    "# 通過使用object_hook參數，我們告訴json.loads函數在解碼JSON時調用自定義的函數。\n"
   ]
  }
 ],
 "metadata": {
  "kernelspec": {
   "display_name": "base",
   "language": "python",
   "name": "python3"
  },
  "language_info": {
   "codemirror_mode": {
    "name": "ipython",
    "version": 3
   },
   "file_extension": ".py",
   "mimetype": "text/x-python",
   "name": "python",
   "nbconvert_exporter": "python",
   "pygments_lexer": "ipython3",
   "version": "3.9.13"
  },
  "orig_nbformat": 4
 },
 "nbformat": 4,
 "nbformat_minor": 2
}
