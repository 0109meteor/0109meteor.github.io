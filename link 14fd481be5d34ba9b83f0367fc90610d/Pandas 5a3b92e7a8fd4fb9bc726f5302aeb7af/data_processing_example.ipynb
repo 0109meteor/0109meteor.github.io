{
 "cells": [
  {
   "cell_type": "code",
   "execution_count": null,
   "metadata": {},
   "outputs": [],
   "source": [
    "#讀取資料\n",
    "import pandas as pd\n",
    "\n",
    "data = pd.read_csv(\"googleplaystore.csv\")\n"
   ]
  },
  {
   "cell_type": "code",
   "execution_count": null,
   "metadata": {},
   "outputs": [],
   "source": [
    "#觀察資料\n",
    "print(data)"
   ]
  },
  {
   "cell_type": "code",
   "execution_count": null,
   "metadata": {},
   "outputs": [],
   "source": [
    "#觀察資料\n",
    "print(\"====================================\")\n",
    "print(\"資料數量\",data.shape)\n",
    "print(\"====================================\")\n",
    "print(\"資料欄位\",data.columns)\n",
    "print(\"====================================\")"
   ]
  },
  {
   "cell_type": "code",
   "execution_count": null,
   "metadata": {},
   "outputs": [],
   "source": [
    "#分析資料 : 評分的各種統計數據\n",
    "print(\"====================================\")\n",
    "print(data[\"Rating\"])\n",
    "print(\"====================================\")\n",
    "#排除錯誤資料 (<=5的都是正確資料)\n",
    "condition = data[\"Rating\"] <= 5 #找出符合的就好\n",
    "data = data[condition]\n",
    "print(\"====================================\")\n",
    "print(\"平均數\",data[\"Rating\"].mean())\n",
    "print(\"====================================\")\n",
    "print(\"中位數\",data[\"Rating\"].median())\n",
    "print(\"====================================\")\n",
    "print(\"取得前100個應用程式的平均\",data[\"Rating\"].nlargest(100).mean())   #沒排除錯誤資料前 5.14明顯有問題，因為最高才5\n",
    "print(\"====================================\")\n"
   ]
  },
  {
   "cell_type": "code",
   "execution_count": null,
   "metadata": {},
   "outputs": [],
   "source": [
    "#===========================================================\n",
    "#找出錯誤資料\n",
    "\"\"\" print(\"====================================\")\n",
    "condition = data[\"Rating\"] > 5\n",
    "filteredData = data[condition]\n",
    "print(filteredData)\n",
    "print(\"====================================\")\n",
    "#排除錯誤資料 (<=5的都是正確資料)\n",
    "condition = data[\"Rating\"] <= 5 #找出符合的就好\n",
    "filteredData = data[condition]\n",
    "print(\"====================================\") \"\"\"\n",
    "#==========================================================="
   ]
  },
  {
   "cell_type": "code",
   "execution_count": null,
   "metadata": {},
   "outputs": [],
   "source": [
    "#分析資料 : 安裝數量的各種統計數據  (重複執行會出錯)\n",
    "#print(data[\"Installs\"][10472])                             #原本的資料不是int而是object\n",
    "data[\"Installs\"] = pd.to_numeric(data[\"Installs\"].str.replace(\"[,+]\",\"\").replace(\"Free\",\"\"))  #轉換成數字 .str.replace(\"[,+]\",\"\")用空白取代掉\n",
    "print(\"====================================\")\n",
    "print(data[\"Installs\"])\n",
    "print(\"安裝數量平均數\",data[\"Rating\"].mean())\n",
    "print(\"====================================\")\n",
    "condition = data[\"Installs\"] > 100000\n",
    "print(\"安裝數量大於10000的應用程式有幾個\", data[condition].shape)  #data[condition].shape[0] 只要4947\n",
    "print(\"====================================\")\n",
    "\n",
    "#condition = data[\"Installs\"] == \"Free\"\n",
    "#filteredData = data[condition]\n",
    "#print(filteredData)"
   ]
  },
  {
   "cell_type": "code",
   "execution_count": null,
   "metadata": {},
   "outputs": [],
   "source": [
    "#基於資料的應用 : 關鍵字搜尋應用程式名稱\n",
    "keyword = input(\"請輸入關鍵字:\")\n",
    "condition = data[\"App\"].str.contains(keyword, case=False)   #會有大小寫差別 所以要加入參數(case=False)忽略大小寫\n",
    "print(\"====================================\")\n",
    "print(data[condition][\"App\"])  #只列出應用程式名稱\n",
    "print(\"包含關鍵字的應用程式數量\",data[condition].shape)  #只列出應用程式名稱  data[condition].shape[0]只列出幾列\n",
    "print(\"====================================\")\n",
    "#print(data[condition])\n"
   ]
  }
 ],
 "metadata": {
  "kernelspec": {
   "display_name": "base",
   "language": "python",
   "name": "python3"
  },
  "language_info": {
   "codemirror_mode": {
    "name": "ipython",
    "version": 3
   },
   "file_extension": ".py",
   "mimetype": "text/x-python",
   "name": "python",
   "nbconvert_exporter": "python",
   "pygments_lexer": "ipython3",
   "version": "3.9.13"
  },
  "orig_nbformat": 4
 },
 "nbformat": 4,
 "nbformat_minor": 2
}
