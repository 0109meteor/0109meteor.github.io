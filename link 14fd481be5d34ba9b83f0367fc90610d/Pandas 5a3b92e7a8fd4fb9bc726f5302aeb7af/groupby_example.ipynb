{
 "cells": [
  {
   "cell_type": "code",
   "execution_count": 1,
   "metadata": {},
   "outputs": [
    {
     "name": "stdout",
     "output_type": "stream",
     "text": [
      "department\n",
      "HR    32500.000000\n",
      "IT    48333.333333\n",
      "Name: salary, dtype: float64\n"
     ]
    }
   ],
   "source": [
    "import pandas as pd\n",
    "\n",
    "# 原始 DataFrame\n",
    "data = pd.DataFrame({\n",
    "    \"name\": [\"Amy\", \"John\", \"Bob\", \"Amy\", \"John\"],\n",
    "    \"salary\": [30000, 50000, 40000, 35000, 55000],\n",
    "    \"department\": [\"HR\", \"IT\", \"IT\", \"HR\", \"IT\"]\n",
    "})\n",
    "\n",
    "# 根據 department 欄位進行分組\n",
    "grouped_data = data.groupby(\"department\")\n",
    "\n",
    "# 進行分組計算\n",
    "average_salary = grouped_data[\"salary\"].mean()\n",
    "\n",
    "print(average_salary)\n"
   ]
  },
  {
   "cell_type": "code",
   "execution_count": 4,
   "metadata": {},
   "outputs": [
    {
     "name": "stdout",
     "output_type": "stream",
     "text": [
      "department  location\n",
      "HR          London      30000.0\n",
      "            New York    35000.0\n",
      "IT          London      47500.0\n",
      "            New York    50000.0\n",
      "Name: salary, dtype: float64\n"
     ]
    }
   ],
   "source": [
    "#多個欄位分組\n",
    "\n",
    "import pandas as pd\n",
    "\n",
    "# 原始 DataFrame\n",
    "data = pd.DataFrame({\n",
    "    \"name\": [\"Amy\", \"John\", \"Bob\", \"Amy\", \"John\"],\n",
    "    \"salary\": [30000, 50000, 40000, 35000, 55000],\n",
    "    \"department\": [\"HR\", \"IT\", \"IT\", \"HR\", \"IT\"],\n",
    "    \"location\": [\"London\", \"New York\", \"London\", \"New York\", \"London\"]\n",
    "})\n",
    "\n",
    "# 根據 department 和 location 欄位進行分組\n",
    "grouped_data = data.groupby([\"department\", \"location\"])\n",
    "\n",
    "# 進行分組計算\n",
    "average_salary = grouped_data[\"salary\"].mean()\n",
    "\n",
    "print(average_salary)\n"
   ]
  },
  {
   "cell_type": "code",
   "execution_count": 5,
   "metadata": {},
   "outputs": [
    {
     "name": "stdout",
     "output_type": "stream",
     "text": [
      "department\n",
      "HR     5000\n",
      "IT    15000\n",
      "Name: salary, dtype: int64\n"
     ]
    }
   ],
   "source": [
    "import pandas as pd\n",
    "\n",
    "# 原始 DataFrame\n",
    "data = pd.DataFrame({\n",
    "    \"name\": [\"Amy\", \"John\", \"Bob\", \"Amy\", \"John\"],\n",
    "    \"salary\": [30000, 50000, 40000, 35000, 55000],\n",
    "    \"department\": [\"HR\", \"IT\", \"IT\", \"HR\", \"IT\"]\n",
    "})\n",
    "\n",
    "# 自定義聚合函數\n",
    "def salary_range(series):\n",
    "    return series.max() - series.min()   #薪水最高和最低的差\n",
    "\n",
    "# 根據 department 欄位進行分組並應用自定義聚合函數\n",
    "result = data.groupby(\"department\")[\"salary\"].agg(salary_range)   #使用 agg() 方法應用自定義聚合函數 \n",
    "\n",
    "print(result)\n"
   ]
  }
 ],
 "metadata": {
  "kernelspec": {
   "display_name": "base",
   "language": "python",
   "name": "python3"
  },
  "language_info": {
   "codemirror_mode": {
    "name": "ipython",
    "version": 3
   },
   "file_extension": ".py",
   "mimetype": "text/x-python",
   "name": "python",
   "nbconvert_exporter": "python",
   "pygments_lexer": "ipython3",
   "version": "3.9.13"
  },
  "orig_nbformat": 4
 },
 "nbformat": 4,
 "nbformat_minor": 2
}
