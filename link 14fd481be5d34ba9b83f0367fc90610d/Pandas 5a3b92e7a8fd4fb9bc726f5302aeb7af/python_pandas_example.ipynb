{
 "cells": [
  {
   "cell_type": "code",
   "execution_count": 1,
   "metadata": {},
   "outputs": [
    {
     "name": "stdout",
     "output_type": "stream",
     "text": [
      "0    20\n",
      "1    10\n",
      "2    15\n",
      "dtype: int64\n",
      "==================================\n",
      "Max 20\n",
      "==================================\n",
      "Median 15.0\n",
      "==================================\n",
      "0    40\n",
      "1    20\n",
      "2    30\n",
      "dtype: int64\n",
      "==================================\n",
      "0     True\n",
      "1    False\n",
      "2    False\n",
      "dtype: bool\n"
     ]
    }
   ],
   "source": [
    "#單維度的資料Series\n",
    "import pandas as pd\n",
    "\n",
    "data = pd.Series([20, 10, 15])\n",
    "print(data)\n",
    "print(\"==================================\")\n",
    "print(\"Max\",data.max())         #找最大值\n",
    "print(\"==================================\")\n",
    "print(\"Median\",data.median())   #計算中位數\n",
    "print(\"==================================\")\n",
    "print(data * 2)                 #放大2倍\n",
    "print(\"==================================\")\n",
    "data1 = data == 20              #比較運算 (會比對裡面的每一筆資料，回傳True or False)\n",
    "print(data1)"
   ]
  },
  {
   "cell_type": "code",
   "execution_count": 2,
   "metadata": {},
   "outputs": [
    {
     "name": "stdout",
     "output_type": "stream",
     "text": [
      "   name  salary\n",
      "0   AMY   30000\n",
      "1  John   50000\n",
      "2   Bob   40000\n",
      "==================================\n",
      "0     AMY\n",
      "1    John\n",
      "2     Bob\n",
      "Name: name, dtype: object\n",
      "==================================\n",
      "0    30000\n",
      "1    50000\n",
      "2    40000\n",
      "Name: salary, dtype: int64\n",
      "==================================\n",
      "name       John\n",
      "salary    50000\n",
      "Name: 1, dtype: object\n",
      "==================================\n",
      "AMY\n",
      "==================================\n",
      "AMY\n"
     ]
    }
   ],
   "source": [
    "#雙維度的資料DataFrame\n",
    "import pandas as pd\n",
    "data = pd.DataFrame({\n",
    "    \"name\":[\"AMY\", \"John\", \"Bob\"],\n",
    "    \"salary\":[30000, 50000, 40000]\n",
    "}) #第一欄名字，第二欄薪水\n",
    "print(data)\n",
    "\n",
    "print(\"==================================\")\n",
    "print(data[\"name\"])         #取得特定欄(直向)\n",
    "print(\"==================================\")\n",
    "print(data[\"salary\"])       #取得特定欄(直向)\n",
    "print(\"==================================\")\n",
    "print(data.iloc[1])         #取得特定列(橫向)  1代表第二列\n",
    "print(\"==================================\")\n",
    "print(data.iloc[0,0])       #取得位置 第0欄 第0列的資料 [0,0]\n",
    "print(\"==================================\")\n",
    "print(data.loc[0,\"name\"])   #姓名欄第0個 "
   ]
  },
  {
   "cell_type": "code",
   "execution_count": null,
   "metadata": {},
   "outputs": [],
   "source": [
    "#觀察資料\n",
    "data = pd.Series([5, 4, -2, 3, 7], index=[\"a\",\"b\",\"c\",\"d\",\"e\"])\n",
    "\n",
    "print(\"==================================\")\n",
    "print(data)             #印出\n",
    "print(\"==================================\")\n",
    "print(data.dtype)       #資料型態   data.dtypes\n",
    "print(\"==================================\")\n",
    "print(data.size)        #資料數量\n",
    "print(\"==================================\")\n",
    "print(data.index)       #資料索引\n",
    "print(\"==================================\")\n",
    "print(data[1])          #根據順序取值 data[順序]\n",
    "print(\"==================================\")\n",
    "print(data[\"a\"])        #根據索引取值 data[索引]\n",
    "print(\"==================================\")"
   ]
  },
  {
   "cell_type": "code",
   "execution_count": null,
   "metadata": {},
   "outputs": [],
   "source": [
    "#各種數學和統計運算\n",
    "data = pd.Series([3, 10, 20, 5, -12])\n",
    "\n",
    "print(\"==================================\")\n",
    "print(\"sum\",data.sum())                 #加法總和\n",
    "print(\"==================================\")\n",
    "print(\"max\",data.max())                 #最大值\n",
    "print(\"==================================\")\n",
    "print(\"prod\",data.prod())               #乘法總和\n",
    "print(\"==================================\")\n",
    "print(\"mean\",data.mean())               #平均數\n",
    "print(\"==================================\")\n",
    "print(\"median\",data.median())           #中位數\n",
    "print(\"==================================\")\n",
    "print(\"std\",data.std())                 #標準差\n",
    "print(\"==================================\")\n",
    "print(\"nlargest\\n\",data.nlargest(3))    #取前3大數字\n",
    "print(\"==================================\")\n",
    "print(\"nsmallest\\n\",data.nsmallest(2))  #取最小的2個數字\n",
    "print(\"==================================\")"
   ]
  },
  {
   "cell_type": "code",
   "execution_count": null,
   "metadata": {},
   "outputs": [],
   "source": [
    "#字串操作相關\n",
    "data = pd.Series([\"您好\",\"python\",\"Pandas\"])\n",
    "\n",
    "print(\"==================================\")\n",
    "print(data.str.lower())                 #所有字串變小寫\n",
    "print(\"==================================\")\n",
    "print(data.str.upper())                 #所有字串變大寫\n",
    "print(\"==================================\")\n",
    "print(data.str.len())                   #的到每個字串長度\n",
    "print(\"==================================\")\n",
    "print(data.str.cat(sep=\",\"))            #把所有字串用(,)串在一起\n",
    "print(\"==================================\")\n",
    "print(data.str.contains(\"P\"))           #判斷每個字串是否包含P (回傳True or False)\n",
    "print(\"==================================\")\n",
    "print(data.str.replace(\"您好\",\"Hello\")) #將字串做取代\n",
    "print(\"==================================\")"
   ]
  },
  {
   "cell_type": "code",
   "execution_count": null,
   "metadata": {},
   "outputs": [],
   "source": [
    "#================================================================================"
   ]
  },
  {
   "cell_type": "code",
   "execution_count": null,
   "metadata": {},
   "outputs": [],
   "source": [
    "#觀察資料 \n",
    "data = pd.DataFrame({\n",
    "    \"name\":[\"Amy\", \"John\", \"Bob\"],\n",
    "    \"salary\":[30000, 50000, 40000]\n",
    "}, index=[\"a\",\"b\",\"c\"])\n",
    "print(\"==================================\")\n",
    "print(data)                            #印出資料\n",
    "print(\"==================================\")\n",
    "print(\"資料數量\",data.size)             #資料數量\n",
    "print(\"==================================\")\n",
    "print(\"資料形狀(列,欄)\",data.shape)     #資料形狀(列,欄)\n",
    "print(\"==================================\")\n",
    "print(\"資料索引\",data.index)            #資料索引\n",
    "print(\"==================================\")\n"
   ]
  },
  {
   "cell_type": "code",
   "execution_count": null,
   "metadata": {},
   "outputs": [],
   "source": [
    "#取得[列]資料  橫向(Row)\n",
    "print(\"==================================\")\n",
    "print(\"取得第二列\",data.iloc[1], sep=\"\\n\")      #取得第二列\n",
    "print(\"==================================\")\n",
    "print(\"取得第c列\",data.loc[\"c\"], sep=\"\\n\")      #取得第c列"
   ]
  },
  {
   "cell_type": "code",
   "execution_count": null,
   "metadata": {},
   "outputs": [],
   "source": [
    "#取得[欄]資料  直向(Col)\n",
    "print(\"==================================\")\n",
    "print(\"取得 name 欄位\", data[\"name\"], sep=\"\\n\") #取得 name 欄位\n",
    "print(\"==================================\")"
   ]
  },
  {
   "cell_type": "code",
   "execution_count": null,
   "metadata": {},
   "outputs": [],
   "source": [
    "#雙維度的資料取得特定的[欄]或是[列]，就會變成單維度Series型態,所以Series能用的都能用\n",
    "print(\"==================================\")\n",
    "names = data[\"name\"]  #取得單維度Series資料\n",
    "print(\"把 name 全部轉成大寫\", names.str.upper(), sep=\"\\n\")  #把 name 全部轉成大寫\n",
    "print(\"==================================\")\n",
    "salaries = data[\"salary\"]  #取得單維度Series資料\n",
    "print(\"員工薪水平均值\", salaries.mean(), sep=\"\\n\")          #員工薪水平均值\n",
    "print(\"==================================\")"
   ]
  },
  {
   "cell_type": "code",
   "execution_count": null,
   "metadata": {},
   "outputs": [],
   "source": [
    "#建立新的欄位\n",
    "print(\"==================================\")\n",
    "data[\"revenue\"] = [500000, 400000, 300000]                  #data[\"新欄位名稱\"] = 列表資料\n",
    "print(data)\n",
    "print(\"==================================\")\n",
    "data[\"rank\"] = pd.Series([3, 6, 1], index=[\"a\",\"b\",\"c\"])    #data[\"新欄位名稱\"] = Series型態資料(比較正式的寫法) 原本有index這裡也要有\n",
    "print(data)\n",
    "print(\"==================================\")\n",
    "data[\"cp\"] = data[\"revenue\"] / data[\"salary\"]               #使用兩個欄位做運算並存到cp欄位\n",
    "print(data)\n",
    "print(\"==================================\")"
   ]
  },
  {
   "cell_type": "code",
   "execution_count": null,
   "metadata": {},
   "outputs": [],
   "source": [
    "#================================================================================================"
   ]
  },
  {
   "cell_type": "code",
   "execution_count": null,
   "metadata": {},
   "outputs": [],
   "source": [
    "#篩選條件Series\n",
    "data = pd.Series([30, 15, 20])\n",
    "\n",
    "print(\"==================================\")\n",
    "condition = [True, False, True] #只要30和20不要15  建立篩選條件(與資料列數量對應的布林值)\n",
    "filteredData = data[condition]\n",
    "print(filteredData)\n",
    "print(\"==================================\")\n",
    "condition = data > 18 #只要大於18  建立篩選條件(與資料列數量對應的布林值)\n",
    "print(condition)\n",
    "filteredData = data[condition]\n",
    "print(filteredData)\n",
    "\n",
    "\n",
    "#建立篩選條件(與資料列數量對應的布林值)\n",
    "#condition = [True, False, True] #只要第一和第三列\n",
    "#建立篩選條件(直接透過比較運算產生)\n",
    "#condition = data > 5  #資料大於5的\n",
    "#建立篩選條件(透過特定欄位的比較運算產生)\n",
    "#condition = data[欄位名稱] > 5  #資料大於5的\n",
    "#根據條件完成篩選\n",
    "#filteredData = data[condition]"
   ]
  },
  {
   "cell_type": "code",
   "execution_count": null,
   "metadata": {},
   "outputs": [],
   "source": [
    "#篩選條件Series(字串)\n",
    "data = pd.Series([\"您好\",\"python\",\"Pandas\"])\n",
    "\n",
    "print(\"==================================\")\n",
    "condition = [False, True, True] #只要python和Pandas不要您好  建立篩選條件(與資料列數量對應的布林值)\n",
    "filteredData = data[condition]\n",
    "print(filteredData)\n",
    "print(\"==================================\")\n",
    "condition = data.str.contains(\"P\")      #包含P的資料\n",
    "print(condition)\n",
    "filteredData = data[condition]\n",
    "print(filteredData)\n",
    "print(\"==================================\")"
   ]
  },
  {
   "cell_type": "code",
   "execution_count": null,
   "metadata": {},
   "outputs": [],
   "source": [
    "#篩選條件 DataFrame\n",
    "data = pd.DataFrame({\n",
    "    \"name\":[\"Amy\", \"John\", \"Bob\"],\n",
    "    \"salary\":[30000, 50000, 40000]\n",
    "})\n",
    "print(data)\n",
    "\n",
    "print(\"==================================\")\n",
    "condition = [False, True, True]\n",
    "filteredData = data[condition]\n",
    "print(filteredData)\n",
    "print(\"==================================\")\n",
    "condition = data[\"salary\"] > 40000      #薪水大於4萬的員工資料\n",
    "print(condition)\n",
    "filteredData = data[condition]\n",
    "print(filteredData)\n",
    "print(\"==================================\")\n",
    "condition = data[\"name\"] == \"Amy\"       #名稱叫做Amy的\n",
    "print(condition)\n",
    "filteredData = data[condition]\n",
    "print(filteredData)\n",
    "print(\"==================================\")"
   ]
  },
  {
   "cell_type": "code",
   "execution_count": null,
   "metadata": {},
   "outputs": [],
   "source": []
  }
 ],
 "metadata": {
  "kernelspec": {
   "display_name": "base",
   "language": "python",
   "name": "python3"
  },
  "language_info": {
   "codemirror_mode": {
    "name": "ipython",
    "version": 3
   },
   "file_extension": ".py",
   "mimetype": "text/x-python",
   "name": "python",
   "nbconvert_exporter": "python",
   "pygments_lexer": "ipython3",
   "version": "3.9.13"
  },
  "orig_nbformat": 4
 },
 "nbformat": 4,
 "nbformat_minor": 2
}
