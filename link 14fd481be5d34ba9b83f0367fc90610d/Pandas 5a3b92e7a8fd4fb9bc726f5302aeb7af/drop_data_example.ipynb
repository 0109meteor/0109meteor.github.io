{
 "cells": [
  {
   "cell_type": "code",
   "execution_count": 3,
   "metadata": {},
   "outputs": [
    {
     "name": "stdout",
     "output_type": "stream",
     "text": [
      "   name  salary\n",
      "1  John   50000\n",
      "2   Bob   40000\n"
     ]
    }
   ],
   "source": [
    "#刪除列\n",
    "import pandas as pd\n",
    "\n",
    "# 原始 DataFrame\n",
    "data = pd.DataFrame({\n",
    "    \"name\": [\"Amy\", \"John\", \"Bob\"],\n",
    "    \"salary\": [30000, 50000, 40000]\n",
    "})\n",
    "\n",
    "# 刪除指定索引的列\n",
    "data = data.drop([0])  # 刪除索引為 0 的列\n",
    "print(data)\n"
   ]
  },
  {
   "cell_type": "code",
   "execution_count": 4,
   "metadata": {},
   "outputs": [
    {
     "name": "stdout",
     "output_type": "stream",
     "text": [
      "   name\n",
      "0   Amy\n",
      "1  John\n",
      "2   Bob\n"
     ]
    }
   ],
   "source": [
    "import pandas as pd\n",
    "\n",
    "# 原始 DataFrame\n",
    "data = pd.DataFrame({\n",
    "    \"name\": [\"Amy\", \"John\", \"Bob\"],\n",
    "    \"salary\": [30000, 50000, 40000]\n",
    "})\n",
    "\n",
    "# 刪除指定列的欄位\n",
    "data = data.drop(\"salary\", axis=1)  # 刪除 \"salary\" 欄位\n",
    "print(data)\n"
   ]
  }
 ],
 "metadata": {
  "kernelspec": {
   "display_name": "base",
   "language": "python",
   "name": "python3"
  },
  "language_info": {
   "codemirror_mode": {
    "name": "ipython",
    "version": 3
   },
   "file_extension": ".py",
   "mimetype": "text/x-python",
   "name": "python",
   "nbconvert_exporter": "python",
   "pygments_lexer": "ipython3",
   "version": "3.9.13"
  },
  "orig_nbformat": 4
 },
 "nbformat": 4,
 "nbformat_minor": 2
}
