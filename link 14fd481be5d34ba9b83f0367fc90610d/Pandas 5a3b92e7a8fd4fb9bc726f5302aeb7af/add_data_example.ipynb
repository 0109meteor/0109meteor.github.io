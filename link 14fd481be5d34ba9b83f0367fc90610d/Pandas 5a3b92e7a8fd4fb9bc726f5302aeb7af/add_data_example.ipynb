{
 "cells": [
  {
   "cell_type": "code",
   "execution_count": null,
   "metadata": {},
   "outputs": [],
   "source": [
    "import pandas as pd\n",
    "\n",
    "data = pd.DataFrame({\n",
    "    \"name\":[\"Amy\", \"John\", \"Bob\"],\n",
    "    \"salary\":[30000, 50000, 40000]\n",
    "})\n",
    "\n",
    "print(data)\n",
    "\n",
    "print(data.columns)\n",
    "print(len(data.columns))\n",
    "print(data.shape)"
   ]
  },
  {
   "cell_type": "code",
   "execution_count": null,
   "metadata": {},
   "outputs": [],
   "source": [
    "#append加入\n",
    "\n",
    "data = data.append(pd.DataFrame({\"name\": [\"Alice\"],\"salary\": [45000]}), ignore_index=True)\n",
    "print(data)"
   ]
  },
  {
   "cell_type": "code",
   "execution_count": null,
   "metadata": {},
   "outputs": [],
   "source": [
    "#append加入\n",
    "\n",
    "name1= [\"Amy\", \"John\", \"Bob\"]\n",
    "salary1 = [30000, 50000, 40000]\n",
    "\n",
    "for i in range(len(name1)):\n",
    "    data = data.append(pd.DataFrame({\"name\": [name1[i]],\"salary\": [salary1[i]]}), ignore_index=True)\n",
    "\n",
    "print(data)\n"
   ]
  },
  {
   "cell_type": "code",
   "execution_count": null,
   "metadata": {},
   "outputs": [],
   "source": [
    "#append加入\n",
    "\n",
    "new_data = pd.DataFrame([\n",
    "    {\"name\": \"Alice\", \"salary\": 45000},\n",
    "    {\"name\": \"Eva\", \"salary\": 55000},\n",
    "    {\"name\": \"David\", \"salary\": 60000}\n",
    "])\n",
    "\n",
    "data = data.append(new_data, ignore_index=True)\n",
    "\n",
    "print(data)"
   ]
  },
  {
   "cell_type": "code",
   "execution_count": null,
   "metadata": {},
   "outputs": [],
   "source": [
    "#concat方式\n",
    "\n",
    "new_data = pd.DataFrame({\n",
    "    \"name\": [\"Alice\", \"Eva\", \"David\"],\n",
    "    \"salary\": [45000, 55000, 60000]\n",
    "})\n",
    "\n",
    "data = pd.concat([data, new_data], ignore_index=True)\n",
    "print(data)\n"
   ]
  },
  {
   "cell_type": "code",
   "execution_count": null,
   "metadata": {},
   "outputs": [],
   "source": [
    "#concat方式\n",
    "\n",
    "name1= [\"Amy\", \"John\", \"Bob\"]\n",
    "salary1 = [30000, 50000, 40000]\n",
    "\n",
    "for i in range(len(name1)):\n",
    "    data = pd.concat([data, pd.DataFrame({\"name\": [name1[i]],\"salary\": [salary1[i]]})], ignore_index=True)\n",
    "    #data = pd.concat([data, pd.DataFrame 那串  ], ignore_index=True)\n",
    "print(data)"
   ]
  },
  {
   "cell_type": "code",
   "execution_count": null,
   "metadata": {},
   "outputs": [],
   "source": [
    "#================================================================================================"
   ]
  },
  {
   "cell_type": "code",
   "execution_count": null,
   "metadata": {},
   "outputs": [],
   "source": [
    "#在指定位置插入資料 (作法一)\n",
    "\n",
    "import pandas as pd\n",
    "\n",
    "# 原始 DataFrame\n",
    "data = pd.DataFrame({\n",
    "    \"name\": [\"Amy\", \"John\", \"Bob\"],\n",
    "    \"salary\": [30000, 50000, 40000]\n",
    "})\n",
    "\n",
    "# 要插入的新資料\n",
    "new_data = pd.DataFrame({\n",
    "    \"name\": [\"Alice\", \"Eva\"],\n",
    "    \"salary\": [45000, 55000]\n",
    "})\n",
    "\n",
    "# 欲插入的列位置（索引）\n",
    "insert_index = 1\n",
    "\n",
    "# 在指定位置插入資料  (先加入0的資料,再加入新資料,最後加入原本資料)\n",
    "data = data.iloc[:insert_index].append(new_data, ignore_index=True).append(data.iloc[insert_index:], ignore_index=True)\n",
    "\n",
    "print(data)\n"
   ]
  },
  {
   "cell_type": "code",
   "execution_count": null,
   "metadata": {},
   "outputs": [],
   "source": [
    "#插入新欄位\n",
    "import pandas as pd\n",
    "\n",
    "# 原始 DataFrame\n",
    "data = pd.DataFrame({\n",
    "    \"name\": [\"Amy\", \"John\", \"Bob\"],\n",
    "    \"salary\": [30000, 50000, 40000]\n",
    "})\n",
    "\n",
    "# 要插入的欄位資訊\n",
    "column_name = \"age\"\n",
    "column_values = [25, 30, 35]\n",
    "\n",
    "# 欲插入的欄位位置（索引）\n",
    "insert_index = 1\n",
    "\n",
    "# 在指定位置插入欄位\n",
    "data.insert(insert_index, column_name, column_values)\n",
    "\n",
    "print(data)\n"
   ]
  },
  {
   "cell_type": "code",
   "execution_count": null,
   "metadata": {},
   "outputs": [],
   "source": [
    "#取得資料\n",
    "print(data[\"name\"])\n",
    "print(\"=============================\")\n",
    "print(data.iloc[0], sep=\"\\n\")       #取出第0列\n",
    "print(\"=============================\")\n",
    "print(data.iloc[0,0], sep=\"\\n\")     #取出第0列的name\n",
    "print(\"=============================\")\n",
    "print(data.iloc[0,1], sep=\"\\n\")     #取出第0列的salary\n",
    "print(\"=============================\")\n",
    "print(data.loc[1,\"name\"], sep=\"\\n\") #取出第name欄第0列\n",
    "print(\"=============================\")\n",
    "print(data.loc[1,\"salary\"], sep=\"\\n\") #取出第name欄第0列\n",
    "\n"
   ]
  }
 ],
 "metadata": {
  "kernelspec": {
   "display_name": "base",
   "language": "python",
   "name": "python3"
  },
  "language_info": {
   "codemirror_mode": {
    "name": "ipython",
    "version": 3
   },
   "file_extension": ".py",
   "mimetype": "text/x-python",
   "name": "python",
   "nbconvert_exporter": "python",
   "pygments_lexer": "ipython3",
   "version": "3.9.13"
  },
  "orig_nbformat": 4
 },
 "nbformat": 4,
 "nbformat_minor": 2
}
